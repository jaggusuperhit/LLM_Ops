{
  "nbformat": 4,
  "nbformat_minor": 0,
  "metadata": {
    "colab": {
      "provenance": []
    },
    "kernelspec": {
      "name": "python3",
      "display_name": "Python 3"
    },
    "language_info": {
      "name": "python"
    }
  },
  "cells": [
    {
      "cell_type": "code",
      "execution_count": 1,
      "metadata": {
        "colab": {
          "base_uri": "https://localhost:8080/"
        },
        "id": "djiv2dTr4j_0",
        "outputId": "205e0e34-16be-4e88-a0a6-14dfcd20cfc1"
      },
      "outputs": [
        {
          "output_type": "stream",
          "name": "stdout",
          "text": [
            "Collecting faiss-cpu\n",
            "  Downloading faiss_cpu-1.10.0-cp311-cp311-manylinux_2_28_x86_64.whl.metadata (4.4 kB)\n",
            "Requirement already satisfied: numpy in /usr/local/lib/python3.11/dist-packages (2.0.2)\n",
            "Requirement already satisfied: packaging in /usr/local/lib/python3.11/dist-packages (from faiss-cpu) (24.2)\n",
            "Downloading faiss_cpu-1.10.0-cp311-cp311-manylinux_2_28_x86_64.whl (30.7 MB)\n",
            "\u001b[2K   \u001b[90m━━━━━━━━━━━━━━━━━━━━━━━━━━━━━━━━━━━━━━━━\u001b[0m \u001b[32m30.7/30.7 MB\u001b[0m \u001b[31m23.1 MB/s\u001b[0m eta \u001b[36m0:00:00\u001b[0m\n",
            "\u001b[?25hInstalling collected packages: faiss-cpu\n",
            "Successfully installed faiss-cpu-1.10.0\n"
          ]
        }
      ],
      "source": [
        "!pip install faiss-cpu numpy"
      ]
    },
    {
      "cell_type": "code",
      "source": [
        "!pip install openai==0.28"
      ],
      "metadata": {
        "colab": {
          "base_uri": "https://localhost:8080/"
        },
        "id": "7GwOKk3b4yD8",
        "outputId": "9481c188-bf72-47ba-d1a8-824694854735"
      },
      "execution_count": 2,
      "outputs": [
        {
          "output_type": "stream",
          "name": "stdout",
          "text": [
            "Collecting openai==0.28\n",
            "  Downloading openai-0.28.0-py3-none-any.whl.metadata (13 kB)\n",
            "Requirement already satisfied: requests>=2.20 in /usr/local/lib/python3.11/dist-packages (from openai==0.28) (2.32.3)\n",
            "Requirement already satisfied: tqdm in /usr/local/lib/python3.11/dist-packages (from openai==0.28) (4.67.1)\n",
            "Requirement already satisfied: aiohttp in /usr/local/lib/python3.11/dist-packages (from openai==0.28) (3.11.15)\n",
            "Requirement already satisfied: charset-normalizer<4,>=2 in /usr/local/lib/python3.11/dist-packages (from requests>=2.20->openai==0.28) (3.4.1)\n",
            "Requirement already satisfied: idna<4,>=2.5 in /usr/local/lib/python3.11/dist-packages (from requests>=2.20->openai==0.28) (3.10)\n",
            "Requirement already satisfied: urllib3<3,>=1.21.1 in /usr/local/lib/python3.11/dist-packages (from requests>=2.20->openai==0.28) (2.3.0)\n",
            "Requirement already satisfied: certifi>=2017.4.17 in /usr/local/lib/python3.11/dist-packages (from requests>=2.20->openai==0.28) (2025.1.31)\n",
            "Requirement already satisfied: aiohappyeyeballs>=2.3.0 in /usr/local/lib/python3.11/dist-packages (from aiohttp->openai==0.28) (2.6.1)\n",
            "Requirement already satisfied: aiosignal>=1.1.2 in /usr/local/lib/python3.11/dist-packages (from aiohttp->openai==0.28) (1.3.2)\n",
            "Requirement already satisfied: attrs>=17.3.0 in /usr/local/lib/python3.11/dist-packages (from aiohttp->openai==0.28) (25.3.0)\n",
            "Requirement already satisfied: frozenlist>=1.1.1 in /usr/local/lib/python3.11/dist-packages (from aiohttp->openai==0.28) (1.5.0)\n",
            "Requirement already satisfied: multidict<7.0,>=4.5 in /usr/local/lib/python3.11/dist-packages (from aiohttp->openai==0.28) (6.3.2)\n",
            "Requirement already satisfied: propcache>=0.2.0 in /usr/local/lib/python3.11/dist-packages (from aiohttp->openai==0.28) (0.3.1)\n",
            "Requirement already satisfied: yarl<2.0,>=1.17.0 in /usr/local/lib/python3.11/dist-packages (from aiohttp->openai==0.28) (1.18.3)\n",
            "Downloading openai-0.28.0-py3-none-any.whl (76 kB)\n",
            "\u001b[2K   \u001b[90m━━━━━━━━━━━━━━━━━━━━━━━━━━━━━━━━━━━━━━━━\u001b[0m \u001b[32m76.5/76.5 kB\u001b[0m \u001b[31m2.1 MB/s\u001b[0m eta \u001b[36m0:00:00\u001b[0m\n",
            "\u001b[?25hInstalling collected packages: openai\n",
            "  Attempting uninstall: openai\n",
            "    Found existing installation: openai 1.70.0\n",
            "    Uninstalling openai-1.70.0:\n",
            "      Successfully uninstalled openai-1.70.0\n",
            "Successfully installed openai-0.28.0\n"
          ]
        }
      ]
    },
    {
      "cell_type": "code",
      "source": [
        "import faiss\n",
        "import openai\n",
        "import numpy as np"
      ],
      "metadata": {
        "id": "UkDfulto42qj"
      },
      "execution_count": 3,
      "outputs": []
    },
    {
      "cell_type": "code",
      "source": [
        "openai.api_key = \"YOUR_OPENAI_API_KEY_HERE\""
      ],
      "metadata": {
        "id": "VBeba7xG42n1"
      },
      "execution_count": 5,
      "outputs": []
    },
    {
      "cell_type": "code",
      "source": [
        "# Helper: Get embedding using OpenAI\n",
        "def get_embedding(text):\n",
        "    response = openai.Embedding.create(\n",
        "        input=[text],\n",
        "        model=\"text-embedding-ada-002\"\n",
        "    )\n",
        "    return np.array(response['data'][0]['embedding'], dtype=np.float32)"
      ],
      "metadata": {
        "id": "YNbHmx2m5BGc"
      },
      "execution_count": 6,
      "outputs": []
    },
    {
      "cell_type": "code",
      "source": [
        "# Example texts\n",
        "texts = [\n",
        "    \"FAISS is a library for efficient similarity search.\",\n",
        "    \"It is developed by Facebook AI Research.\",\n",
        "    \"It supports cosine and L2 distance search.\",\n",
        "    \"You can use FAISS with OpenAI embeddings.\"\n",
        "]"
      ],
      "metadata": {
        "id": "aKwTJg715NO7"
      },
      "execution_count": 7,
      "outputs": []
    },
    {
      "cell_type": "code",
      "source": [
        "# Get embeddings\n",
        "embeddings = np.array([get_embedding(text) for text in texts])"
      ],
      "metadata": {
        "id": "eyhd5Y995NNE"
      },
      "execution_count": 8,
      "outputs": []
    },
    {
      "cell_type": "code",
      "source": [
        "embeddings"
      ],
      "metadata": {
        "colab": {
          "base_uri": "https://localhost:8080/"
        },
        "id": "9cRdYc1n5X0D",
        "outputId": "d956aee9-3f0c-4413-ff9a-378de9cdc6df"
      },
      "execution_count": 9,
      "outputs": [
        {
          "output_type": "execute_result",
          "data": {
            "text/plain": [
              "array([[-0.02997606,  0.02110047, -0.01385765, ...,  0.00743819,\n",
              "        -0.00234973, -0.05118818],\n",
              "       [-0.00988787,  0.00257791,  0.00713675, ..., -0.01343943,\n",
              "        -0.01611655, -0.03309409],\n",
              "       [ 0.00019641,  0.02353237, -0.00626444, ...,  0.00275607,\n",
              "        -0.02853837, -0.02821943],\n",
              "       [-0.01981817, -0.00651386,  0.01091175, ...,  0.00290081,\n",
              "         0.01450751, -0.03783847]], dtype=float32)"
            ]
          },
          "metadata": {},
          "execution_count": 9
        }
      ]
    },
    {
      "cell_type": "code",
      "source": [
        "# Normalize if using cosine similarity\n",
        "faiss.normalize_L2(embeddings)  # Optional: only if you're doing cosine similarity"
      ],
      "metadata": {
        "id": "w1hxIK5V5Xxz"
      },
      "execution_count": 10,
      "outputs": []
    },
    {
      "cell_type": "code",
      "source": [
        "# Create FAISS index\n",
        "dimension = embeddings.shape[1]\n",
        "print(dimension)"
      ],
      "metadata": {
        "colab": {
          "base_uri": "https://localhost:8080/"
        },
        "id": "Qp9AV-jf5Xvc",
        "outputId": "e3878732-45ea-4dcf-c32f-ba4cc83e183a"
      },
      "execution_count": 11,
      "outputs": [
        {
          "output_type": "stream",
          "name": "stdout",
          "text": [
            "1536\n"
          ]
        }
      ]
    },
    {
      "cell_type": "code",
      "source": [
        "index = faiss.IndexFlatIP(dimension)"
      ],
      "metadata": {
        "id": "mbDPAevT5fhk"
      },
      "execution_count": 12,
      "outputs": []
    },
    {
      "cell_type": "code",
      "source": [
        "index"
      ],
      "metadata": {
        "colab": {
          "base_uri": "https://localhost:8080/"
        },
        "id": "gh1UhyHA5jo8",
        "outputId": "ebf30df3-3009-4b2c-e497-ff476d613957"
      },
      "execution_count": 13,
      "outputs": [
        {
          "output_type": "execute_result",
          "data": {
            "text/plain": [
              "<faiss.swigfaiss_avx2.IndexFlatIP; proxy of <Swig Object of type 'faiss::IndexFlatIP *' at 0x7adb9953d9e0> >"
            ]
          },
          "metadata": {},
          "execution_count": 13
        }
      ]
    },
    {
      "cell_type": "code",
      "source": [
        "# Add vectors to index\n",
        "index.add(embeddings)"
      ],
      "metadata": {
        "id": "-KYeAzS75kf8"
      },
      "execution_count": 14,
      "outputs": []
    },
    {
      "cell_type": "code",
      "source": [
        "# Store original texts for lookup\n",
        "text_id_map = {i: text for i, text in enumerate(texts)}"
      ],
      "metadata": {
        "id": "uUPipP-i5pxM"
      },
      "execution_count": 15,
      "outputs": []
    },
    {
      "cell_type": "code",
      "source": [
        "text_id_map"
      ],
      "metadata": {
        "colab": {
          "base_uri": "https://localhost:8080/"
        },
        "id": "XcfJ89hc5pu0",
        "outputId": "ffeb5594-1f3f-43ab-8a0f-4b7c6f439b37"
      },
      "execution_count": 16,
      "outputs": [
        {
          "output_type": "execute_result",
          "data": {
            "text/plain": [
              "{0: 'FAISS is a library for efficient similarity search.',\n",
              " 1: 'It is developed by Facebook AI Research.',\n",
              " 2: 'It supports cosine and L2 distance search.',\n",
              " 3: 'You can use FAISS with OpenAI embeddings.'}"
            ]
          },
          "metadata": {},
          "execution_count": 16
        }
      ]
    },
    {
      "cell_type": "code",
      "source": [
        "# Query example\n",
        "query = \"What is FAISS?\"\n",
        "query_vector = get_embedding(query)\n",
        "faiss.normalize_L2(query_vector.reshape(1, -1))  # Normalize for cosine\n",
        "# Search top 2 most similar\n",
        "k = 2\n",
        "distances, indices = index.search(query_vector.reshape(1, -1), k)\n"
      ],
      "metadata": {
        "id": "Gl0Ry2bU5ukz"
      },
      "execution_count": 17,
      "outputs": []
    },
    {
      "cell_type": "code",
      "source": [
        "# Display results\n",
        "for i, idx in enumerate(indices[0]):\n",
        "    print(f\"Result {i+1}: {text_id_map[idx]} (Score: {distances[0][i]:.4f})\")"
      ],
      "metadata": {
        "colab": {
          "base_uri": "https://localhost:8080/"
        },
        "id": "-lT6XAvA52_j",
        "outputId": "e52feabe-0d48-42e7-b12e-f9a4f3186b16"
      },
      "execution_count": 18,
      "outputs": [
        {
          "output_type": "stream",
          "name": "stdout",
          "text": [
            "Result 1: FAISS is a library for efficient similarity search. (Score: 0.8826)\n",
            "Result 2: You can use FAISS with OpenAI embeddings. (Score: 0.8335)\n"
          ]
        }
      ]
    },
    {
      "cell_type": "code",
      "source": [],
      "metadata": {
        "id": "sVdRkquP5290"
      },
      "execution_count": null,
      "outputs": []
    }
  ]
}